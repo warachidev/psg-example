{
 "cells": [
  {
   "cell_type": "code",
   "execution_count": null,
   "metadata": {},
   "outputs": [],
   "source": [
    "# %%\n",
    "print (\"Inicio\")\n",
    "condicion = True\n",
    "if condicion:\n",
    "    # Bloque de código\n",
    "    print (\"Cumple condición\")\n",
    "print (\"Fin\")"
   ]
  },
  {
   "cell_type": "code",
   "execution_count": null,
   "metadata": {},
   "outputs": [],
   "source": [
    "# %%\n",
    "print (\"Inicio\")\n",
    "numero = 4\n",
    "if numero % 2 == 0: # Si el módulo de 2 es 0\n",
    "    print (\"El número es par\")\n",
    "print (\"Fin\")"
   ]
  },
  {
   "cell_type": "code",
   "execution_count": null,
   "metadata": {},
   "outputs": [],
   "source": [
    "# %%\n",
    "print (\"Inicio\")\n",
    "condicion = False\n",
    "if condicion:\n",
    "    # Bloque de código\n",
    "    print (\"Cumple condición\")\n",
    "else:\n",
    "    # Bloque de código\n",
    "    print (\"No cumple condición\")\n",
    "print (\"Fin\")"
   ]
  },
  {
   "cell_type": "code",
   "execution_count": null,
   "metadata": {},
   "outputs": [],
   "source": [
    "# %%\n",
    "print (\"Inicio\")\n",
    "numero = 3\n",
    "if numero % 2 == 0:\n",
    "    print (\"El número es par\")\n",
    "else: \n",
    "    print (\"El número es impar\")\n",
    "print (\"Fin\")"
   ]
  },
  {
   "cell_type": "code",
   "execution_count": null,
   "metadata": {},
   "outputs": [],
   "source": [
    "# %%\n",
    "print (\"Inicio Par, Impar o Cero\")\n",
    "numero = 0  \n",
    "if numero > 0 or numero < 0:\n",
    "    if numero % 2 == 0: # Si el módulo de 2 es 0\n",
    "        print (\"El número es par\")\n",
    "    else:\n",
    "        print (\"El número es impar\")\n",
    "else:\n",
    "    print (\"El número es cero\")\n",
    "print (\"Fin\")"
   ]
  },
  {
   "cell_type": "code",
   "execution_count": null,
   "metadata": {},
   "outputs": [],
   "source": [
    "# %%\n",
    "print (\"Inicio Positivo, Negativo o Cero\")\n",
    "numero = -1\n",
    "if numero > 0:\n",
    "    print (\"El número es positivo\")\n",
    "elif numero < 0:\n",
    "    print (\"El número es negativo\")\n",
    "else:\n",
    "    print (\"El número es cero\")"
   ]
  },
  {
   "cell_type": "code",
   "execution_count": null,
   "metadata": {},
   "outputs": [],
   "source": [
    "# %%\n",
    "print (\"Inicio Ternario Par, Impar\")\n",
    "numero = 3\n",
    "resultado = \"El número es par\" if numero % 2 == 0 else \"El número es impar\"\n",
    "print (resultado)\n",
    "print (\"Fin\")"
   ]
  },
  {
   "cell_type": "code",
   "execution_count": null,
   "metadata": {},
   "outputs": [],
   "source": [
    "# %%\n",
    "print (\"Truthiness Enteros\")\n",
    "dividendo = int(input(\"Dividendo: \"))\n",
    "divisor = int(input(\"Divisor: \"))\n",
    "print (dividendo,divisor)\n",
    "if divisor: #divisor != 0\n",
    "    print (dividendo / divisor)\n",
    "else:\n",
    "    print (\"No se puede dividir entre cero\")\n",
    "print (\"Fin\")"
   ]
  },
  {
   "cell_type": "code",
   "execution_count": null,
   "metadata": {},
   "outputs": [],
   "source": [
    "# %%\n",
    "print (\"Truthiness Flotantes\")\n",
    "dividendo = float(input(\"Dividendo: \"))\n",
    "divisor = float(input(\"Divisor: \"))\n",
    "print (dividendo,divisor)\n",
    "if divisor: #divisor != 0.0\n",
    "    print (dividendo / divisor)\n",
    "else:\n",
    "    print (\"No se puede dividir entre cero\")\n",
    "print (\"Fin\")\n"
   ]
  },
  {
   "cell_type": "code",
   "execution_count": null,
   "metadata": {},
   "outputs": [],
   "source": [
    "# %%\n",
    "print (\"Truthiness Cadenas\")\n",
    "cadena = input(\"Cadena: \")\n",
    "print (cadena)\n",
    "if cadena: # len(cadena) != 0 or cadena != \"\" \n",
    "    print (\"La cadena no está vacía\")\n",
    "else:\n",
    "    print (\"La cadena está vacía\")\n",
    "print (\"Fin\")"
   ]
  },
  {
   "cell_type": "code",
   "execution_count": null,
   "metadata": {},
   "outputs": [],
   "source": [
    "# %%\n",
    "print (\"Truthiness Tuplas\")\n",
    "tupla = tuple(input(\"Tupla: \"))\n",
    "print (tupla)\n",
    "if tupla: # len(tupla) != 0 or tupla != ()\n",
    "    print (\"La tupla no está vacía\")\n",
    "else:\n",
    "    print (\"La tupla está vacía\")\n",
    "print (\"Fin\")"
   ]
  },
  {
   "cell_type": "code",
   "execution_count": null,
   "metadata": {},
   "outputs": [],
   "source": [
    "# %%\n",
    "print (\"Truthiness Listas\")\n",
    "lista = list(input(\"Lista: \"))\n",
    "print (lista)\n",
    "if lista: # len(lista) != 0 or lista != []\n",
    "    print (\"La lista no está vacía\")\n",
    "else:\n",
    "    print (\"La lista está vacía\")\n",
    "print (\"Fin\")"
   ]
  },
  {
   "cell_type": "code",
   "execution_count": null,
   "metadata": {},
   "outputs": [],
   "source": [
    "# %%\n",
    "print (\"Truthiness Conjuntos\")\n",
    "conjunto = set(input(\"Conjunto: \"))\n",
    "print (conjunto)\n",
    "if conjunto: # len(conjunto) != 0 or conjunto != set()\n",
    "    print (\"El conjunto no está vacío\")\n",
    "else:\n",
    "    print (\"El conjunto está vacío\")\n",
    "print (\"Fin\")"
   ]
  },
  {
   "cell_type": "code",
   "execution_count": null,
   "metadata": {},
   "outputs": [],
   "source": [
    "# %%\n",
    "print (\"Truthiness Diccionarios\")\n",
    "diccionario = {}\n",
    "clave = input(\"Clave: \")\n",
    "valor = input(\"Valor: \")\n",
    "if clave:\n",
    "  diccionario = {clave:valor}\n",
    "print (diccionario)\n",
    "if diccionario: # diccionario != {}\n",
    "    print (\"El diccionario no está vacío\")\n",
    "else:\n",
    "    print (\"El diccionario está vacío\")\n",
    "print (\"Fin\")"
   ]
  },
  {
   "cell_type": "code",
   "execution_count": null,
   "metadata": {},
   "outputs": [],
   "source": [
    "# %%\n",
    "print (\"Truthiness None\")\n",
    "valor = None\n",
    "print (valor, type(valor))\n",
    "if valor: # valor != None\n",
    "    print (\"El valor no es None\")\n",
    "else:\n",
    "    print (\"El valor es None\")\n",
    "print (\"Fin\")"
   ]
  },
  {
   "cell_type": "code",
   "execution_count": null,
   "metadata": {},
   "outputs": [],
   "source": [
    "# %%\n",
    "entero = int(input(\"Entero: \"))\n",
    "resultado = \"Diferente de 0\" if entero else \"Igual a 0\"\n",
    "print (resultado)\n",
    "flotante = float(input(\"Flotante: \"))\n",
    "resultado = \"Diferente de 0.0\" if flotante else \"Igual a 0.0\"\n",
    "print (resultado)\n",
    "cadena = input(\"Cadena: \")\n",
    "resultado = \"No está vacía\" if cadena else \"Está vacía\"\n",
    "print (resultado)"
   ]
  },
  {
   "cell_type": "code",
   "execution_count": null,
   "metadata": {},
   "outputs": [],
   "source": [
    "# %%\n",
    "temperatura = float(input(\"Temperatura: \"))\n",
    "if temperatura > 30:\n",
    "    print (\"Encender ventilador\")\n",
    "elif temperatura < 20:\n",
    "    print (\"Apagar ventilador\")"
   ]
  },
  {
   "cell_type": "code",
   "execution_count": null,
   "metadata": {},
   "outputs": [],
   "source": [
    "# %%\n",
    "cesta = ['🍎','🍑','🍓','🍉']\n",
    "print (cesta)\n",
    "if '🍎' in cesta:\n",
    "    print (f\"Hay {cesta.count('🍎')} manzanas\")\n",
    "else:\n",
    "    cesta.extend(['🍎','🍎'])\n",
    "    print (cesta)"
   ]
  },
  {
   "cell_type": "code",
   "execution_count": null,
   "metadata": {},
   "outputs": [],
   "source": [
    "# %%\n",
    "cesta = ['🍑','🍓','🍉']\n",
    "print (cesta)\n",
    "resultado = f\"Hay {cesta.count('🍎')} manzanas\" if '🍎' in cesta else cesta.extend(['🍎','🍎'])\n",
    "print (resultado)\n",
    "print (cesta)"
   ]
  },
  {
   "cell_type": "code",
   "execution_count": null,
   "metadata": {},
   "outputs": [],
   "source": [
    "# %%\n",
    "animal = {'especie':'🐶', 'nombre': 'Firulais', 'mamifero': True}\n",
    "print (animal)\n",
    "if animal.get('mamifero'): # animal['mamifero']\n",
    "    print (\"Es un mamífero\")\n",
    "else:\n",
    "    print (\"No es un mamífero\")"
   ]
  },
  {
   "cell_type": "code",
   "execution_count": null,
   "metadata": {},
   "outputs": [],
   "source": [
    "# %%\n",
    "conjunto_1 = {'⚽','🏀','🏐'}\n",
    "conjunto_2 = {'🏈','🏉','🏓'}\n",
    "print (conjunto_1, conjunto_2)\n",
    "if conjunto_1.isdisjoint(conjunto_2): # len(conjunto_1.intersection(conjunto_2)) == 0\n",
    "    conjunto_1.update(conjunto_2)\n",
    "    print (conjunto_1)\n",
    "else:\n",
    "    print (\"Tienen elementos en común\")\n",
    "    print (conjunto_1.intersection(conjunto_2))"
   ]
  },
  {
   "cell_type": "code",
   "execution_count": null,
   "metadata": {},
   "outputs": [],
   "source": [
    "# %%\n",
    "correo = input(\"Correo: \")\n",
    "if \"@\" in correo and \".\" in correo and correo.count(\"@\") == 1:\n",
    "    if correo.find(\"@\") < correo.rfind(\".\") and correo.find(\"@\") > 0 and correo.rfind(\".\") < len(correo) - 1:\n",
    "        if correo.rfind(\".\") - correo.find(\"@\") > 1:\n",
    "            if correo.find(\".\") - correo.find(\"@\") > 1:\n",
    "                print (\"El correo es válido\")\n",
    "            else:\n",
    "                print (\"El correo no es válido\")\n",
    "        else:\n",
    "            print (\"El correo no es válido\")\n",
    "    else:\n",
    "        print (\"El correo no es válido\")\n",
    "else:\n",
    "    print (\"El correo no es válido\")"
   ]
  },
  {
   "cell_type": "code",
   "execution_count": null,
   "metadata": {},
   "outputs": [],
   "source": [
    "# %%\n",
    "correo = input(\"Correo: \")\n",
    "if \"@\" not in correo or \".\" not in correo or correo.count(\"@\") != 1:\n",
    "    print(\"El correo no es válido\")\n",
    "elif correo.find(\"@\") >= correo.rfind(\".\") or correo.find(\"@\") == 0 or correo.rfind(\".\") == len(correo) - 1:\n",
    "    print(\"El correo no es válido\")\n",
    "elif correo.rfind(\".\") - correo.find(\"@\") <= 1:\n",
    "    print(\"El correo no es válido\")\n",
    "elif correo.find(\".\") - correo.find(\"@\") == 1:\n",
    "    print(\"El correo no es válido\")\n",
    "else:\n",
    "    print(\"El correo es válido\")"
   ]
  }
 ],
 "metadata": {
  "language_info": {
   "codemirror_mode": {
    "name": "ipython",
    "version": 3
   },
   "file_extension": ".py",
   "mimetype": "text/x-python",
   "name": "python",
   "nbconvert_exporter": "python",
   "pygments_lexer": "ipython3",
   "version": 3
  }
 },
 "nbformat": 4,
 "nbformat_minor": 2
}
