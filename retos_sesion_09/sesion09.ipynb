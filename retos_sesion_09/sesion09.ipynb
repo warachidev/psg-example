{
 "cells": [
  {
   "cell_type": "code",
   "execution_count": null,
   "metadata": {},
   "outputs": [],
   "source": [
    "#%%\n",
    "# Tupla\tInmutable, ordenada, indexada\t(1,2,3)\n",
    "# Lista\tMutable, ordenada, indexada\t[1,2,3]\n",
    "# Conjunto\tMutable, no ordenado, no indexado\t{1,2,3}\n",
    "# Diccionario\tMutable, no ordenado, indexado\t{'a':1, 'b':2, 'c':3}"
   ]
  },
  {
   "cell_type": "code",
   "execution_count": null,
   "metadata": {},
   "outputs": [],
   "source": [
    "# %%\n",
    "# Listas\n",
    "lista = [1,2,3]\n",
    "lista[0] = 4 \n",
    "print (lista) # [4,2,3]"
   ]
  },
  {
   "cell_type": "code",
   "execution_count": null,
   "metadata": {},
   "outputs": [],
   "source": [
    "#%%\n",
    "lista1 = [1,2,3]\n",
    "lista2 = [3,2,1]\n",
    "print (lista1 == lista2) # False"
   ]
  },
  {
   "cell_type": "code",
   "execution_count": null,
   "metadata": {},
   "outputs": [],
   "source": [
    "# %%\n",
    "lista = [1,2,3]\n",
    "lista[0] # 1\n",
    "lista[1] # 2\n",
    "lista[2] # 3"
   ]
  },
  {
   "cell_type": "code",
   "execution_count": null,
   "metadata": {},
   "outputs": [],
   "source": [
    "# %%\n",
    "print (\"Lista de enteros\")\n",
    "mi_lista = [1,2,3,4,5]\n",
    "print (mi_lista)"
   ]
  },
  {
   "cell_type": "code",
   "execution_count": null,
   "metadata": {},
   "outputs": [],
   "source": [
    "#%%\n",
    "print (\"Lista de cadenas\")\n",
    "mi_lista = [\"hola\", \"mundo\", \"python\"]\n",
    "print (mi_lista)"
   ]
  },
  {
   "cell_type": "code",
   "execution_count": null,
   "metadata": {},
   "outputs": [],
   "source": [
    "# %%\n",
    "print (\"Lista mixta\")\n",
    "mi_lista = [1, \"hola\", 3.14, \"mundo\", 5]\n",
    "print (mi_lista)"
   ]
  },
  {
   "cell_type": "code",
   "execution_count": null,
   "metadata": {},
   "outputs": [],
   "source": [
    "# %%\n",
    "print (\"Lista vacía\")\n",
    "mi_lista = []\n",
    "print (mi_lista)"
   ]
  },
  {
   "cell_type": "code",
   "execution_count": null,
   "metadata": {},
   "outputs": [],
   "source": [
    "# %%\n",
    "print (\"Lista a partir de una cadena\")\n",
    "mi_lista = list(\"hola mundo\")\n",
    "print (mi_lista)"
   ]
  },
  {
   "cell_type": "code",
   "execution_count": null,
   "metadata": {},
   "outputs": [],
   "source": [
    "# %%\n",
    "print (\"Lista a partir de una tupla\")\n",
    "mi_tupla = (1,2,3,4,5)\n",
    "print (mi_tupla)\n",
    "mi_lista = list(mi_tupla)\n",
    "print (mi_lista)"
   ]
  },
  {
   "cell_type": "code",
   "execution_count": null,
   "metadata": {},
   "outputs": [],
   "source": [
    "# %%\n",
    "print (\"Lista por comprensión\")\n",
    "mi_lista = [x for x in range(10)]\n",
    "print (mi_lista)"
   ]
  },
  {
   "cell_type": "code",
   "execution_count": null,
   "metadata": {},
   "outputs": [],
   "source": [
    "# %%\n",
    "print (\"Indexación positivo de una lista\")\n",
    "lista = [1, \"hola\", 3.14, (1,2)]\n",
    "print (lista[0], type(lista[0])) \n",
    "print (lista[1], type(lista[1])) \n",
    "print (lista[2], type(lista[2])) \n",
    "print (lista[3], type(lista[3])) "
   ]
  },
  {
   "cell_type": "code",
   "execution_count": null,
   "metadata": {},
   "outputs": [],
   "source": [
    "# %%\n",
    "print (\"Indexación negativo de una lista\")\n",
    "lista = [1, \"hola\", 3.14, (1,2)]\n",
    "print (lista[-1], type(lista[-1]))\n",
    "print (lista[-2], type(lista[-2]))\n",
    "print (lista[-3], type(lista[-3]))\n",
    "print (lista[-4], type(lista[-4]))"
   ]
  },
  {
   "cell_type": "code",
   "execution_count": null,
   "metadata": {},
   "outputs": [],
   "source": [
    "# %%\n",
    "print (\"Modificación de una lista\")\n",
    "lista = [1, \"hola\", 3.14, (1,2)]\n",
    "print (lista)\n",
    "lista[0] = 2\n",
    "lista[1] = \"mundo\"\n",
    "print (lista)"
   ]
  },
  {
   "cell_type": "code",
   "execution_count": null,
   "metadata": {},
   "outputs": [],
   "source": [
    "# %%\n",
    "print (\"Slicing de una lista\")\n",
    "lista = [\"P\", \"y\", \"t\", \"h\", \"o\", \"n\", \"L\", \"a\", \"P\", \"a\", \"z\"]\n",
    "print (lista)\n",
    "sub_lista = lista[2:7]\n",
    "print (sub_lista)\n",
    "print (type(sub_lista))"
   ]
  },
  {
   "cell_type": "code",
   "execution_count": null,
   "metadata": {},
   "outputs": [],
   "source": [
    "# %%\n",
    "print (\"Slicing con paso positivo\")\n",
    "lista = [\"P\", \"y\", \"t\", \"h\", \"o\", \"n\", \"L\", \"a\", \"P\", \"a\", \"z\"]\n",
    "print (lista)\n",
    "sub_lista = lista[0:9:3]\n",
    "print (sub_lista)"
   ]
  },
  {
   "cell_type": "code",
   "execution_count": null,
   "metadata": {},
   "outputs": [],
   "source": [
    "# %%\n",
    "print (\"Slicing con paso negativo\")\n",
    "lista = [\"P\", \"y\", \"t\", \"h\", \"o\", \"n\", \"L\", \"a\", \"P\", \"a\", \"z\"]\n",
    "print (lista)\n",
    "sub_lista = lista[8:2:-4]\n",
    "print (sub_lista)"
   ]
  },
  {
   "cell_type": "code",
   "execution_count": null,
   "metadata": {},
   "outputs": [],
   "source": [
    "# %%\n",
    "print (\"Slicing negativo con paso negativo\")\n",
    "lista = [\"P\", \"y\", \"t\", \"h\", \"o\", \"n\", \"L\", \"a\", \"P\", \"a\", \"z\"]\n",
    "print (lista)\n",
    "sub_lista = lista[-1:-8:-2]\n",
    "print (sub_lista)"
   ]
  },
  {
   "cell_type": "code",
   "execution_count": null,
   "metadata": {},
   "outputs": [],
   "source": [
    "# %%\n",
    "print (\"Slicing negativo con paso positivo\")\n",
    "lista = [\"P\", \"y\", \"t\", \"h\", \"o\", \"n\", \"L\", \"a\", \"P\", \"a\", \"z\"]\n",
    "print (lista)\n",
    "sub_lista = lista[-8:-1:2]\n",
    "print (sub_lista)"
   ]
  },
  {
   "cell_type": "code",
   "execution_count": null,
   "metadata": {},
   "outputs": [],
   "source": [
    "# %%\n",
    "print (\"Repetición de listas\")\n",
    "lista = [True, False]\n",
    "repetir = lista * 3\n",
    "print (lista)\n",
    "print (repetir)\n",
    "print (type(repetir))"
   ]
  },
  {
   "cell_type": "code",
   "execution_count": null,
   "metadata": {},
   "outputs": [],
   "source": [
    "# %%\n",
    "print (\"Método index(valor)\")\n",
    "lista = [1,True,3.14,\"hola\",5]\n",
    "valor = \"hola\"\n",
    "print (valor, lista.index(valor))\n",
    "valor = 3.14\n",
    "print (valor, lista.index(valor))\n"
   ]
  },
  {
   "cell_type": "code",
   "execution_count": null,
   "metadata": {},
   "outputs": [],
   "source": [
    "# %%\n",
    "print (\"Método count(valor)\")\n",
    "lista = [1,True,3.14,\"hola\",5, True, True, 3.140]\n",
    "valor = True\n",
    "print (valor, lista.count(valor))\n",
    "valor = 3.14\n",
    "print (valor, lista.count(valor))"
   ]
  },
  {
   "cell_type": "code",
   "execution_count": null,
   "metadata": {},
   "outputs": [],
   "source": [
    "# %%\n",
    "print (\"Método insert(i, valor)\")\n",
    "lista = [1,2,3,4,5]\n",
    "print (lista)\n",
    "lista.insert(2, \"OwO\")\n",
    "print (lista)"
   ]
  },
  {
   "cell_type": "code",
   "execution_count": null,
   "metadata": {},
   "outputs": [],
   "source": [
    "# %%\n",
    "print (\"Método append(valor)\")\n",
    "lista = [1,2,3,4,5]\n",
    "print (lista)\n",
    "lista.append(\"(OwO=)\")\n",
    "print (lista)"
   ]
  },
  {
   "cell_type": "code",
   "execution_count": null,
   "metadata": {},
   "outputs": [],
   "source": [
    "# %%\n",
    "print (\"Método extend(iterable)\")\n",
    "lista = [1,2,3]\n",
    "print (lista)\n",
    "lista.extend(\":3\")\n",
    "print (lista)\n",
    "lista.extend([\"(¬_¬ )\", \"(O_O=)\"])\n",
    "print (lista)\n",
    "lista.extend((\"😅\", \"😎\"))\n",
    "print (lista)"
   ]
  },
  {
   "cell_type": "code",
   "execution_count": null,
   "metadata": {},
   "outputs": [],
   "source": [
    "# %%\n",
    "print (\"Método remove(valor)\")\n",
    "lista = [1,2,\"UwU\",4,5, \"UwU\"]\n",
    "print (lista)\n",
    "lista.remove(\"UwU\")\n",
    "print (lista)"
   ]
  },
  {
   "cell_type": "code",
   "execution_count": null,
   "metadata": {},
   "outputs": [],
   "source": [
    "# %%\n",
    "print (\"Método pop(i)\")\n",
    "lista = [\"OwO\",3,\"UwU\",5]\n",
    "print (lista)\n",
    "lista.pop(1)\n",
    "print (lista)\n",
    "print (\"Método pop()\")\n",
    "lista.pop()\n",
    "print (lista)"
   ]
  },
  {
   "cell_type": "code",
   "execution_count": null,
   "metadata": {},
   "outputs": [],
   "source": [
    "# %%\n",
    "print (\"Método clear()\")\n",
    "lista = [\"ewe\",\"OwO\",\"UwU\"]\n",
    "print (lista)\n",
    "lista.clear()\n",
    "print (lista)"
   ]
  },
  {
   "cell_type": "code",
   "execution_count": null,
   "metadata": {},
   "outputs": [],
   "source": [
    "# %%\n",
    "print (\"Método sort()\")\n",
    "lista = [3,1,5,2,4]\n",
    "print (lista)\n",
    "lista.sort()\n",
    "print (lista)"
   ]
  },
  {
   "cell_type": "code",
   "execution_count": null,
   "metadata": {},
   "outputs": [],
   "source": [
    "# %%\n",
    "print (\"Método sort()\")\n",
    "lista = [3,1,5,2,4]\n",
    "print (lista)\n",
    "lista.sort(reverse=True)\n",
    "print (lista)"
   ]
  },
  {
   "cell_type": "code",
   "execution_count": null,
   "metadata": {},
   "outputs": [],
   "source": [
    "# %%\n",
    "print (\"Método reverse()\")\n",
    "lista = [3,1,5,2,4]\n",
    "print (lista)\n",
    "lista.reverse()\n",
    "print (lista)"
   ]
  },
  {
   "cell_type": "code",
   "execution_count": null,
   "metadata": {},
   "outputs": [],
   "source": [
    "# %%\n",
    "print (\"Asignación de lista\")\n",
    "lista = [1,2,3,4,5]\n",
    "print (lista)\n",
    "copia = lista\n",
    "copia[0] = 6\n",
    "print (copia)\n",
    "print (lista)"
   ]
  },
  {
   "cell_type": "code",
   "execution_count": null,
   "metadata": {},
   "outputs": [],
   "source": [
    "# %%\n",
    "print (\"Método copia con slicing\")\n",
    "lista = [1,2,3,4,5]\n",
    "print (lista)\n",
    "copia = lista[:]\n",
    "copia[0] = 6\n",
    "print (copia)\n",
    "print (lista)"
   ]
  },
  {
   "cell_type": "code",
   "execution_count": null,
   "metadata": {},
   "outputs": [],
   "source": [
    "# %%\n",
    "print (\"Método copy()\")\n",
    "lista = [3,1,5,2,4]\n",
    "print (lista)\n",
    "copia = lista.copy()\n",
    "print (copia)\n",
    "print (copia == lista)\n"
   ]
  },
  {
   "cell_type": "code",
   "execution_count": null,
   "metadata": {},
   "outputs": [],
   "source": [
    "# %%\n",
    "print (\"Función len()\")\n",
    "lista = [1,True,3.14,\"🐍\",5]\n",
    "print (lista)\n",
    "print (len(lista))"
   ]
  },
  {
   "cell_type": "code",
   "execution_count": null,
   "metadata": {},
   "outputs": [],
   "source": [
    "# %%\n",
    "print (\"Función max()\")\n",
    "lista = [1,2,3,4,5]\n",
    "print (lista)\n",
    "print (max(lista))\n",
    "lista = [\"a\",\"b\",\"c\",\"d\",\"e\"]\n",
    "print (lista)\n",
    "print (max(lista))"
   ]
  },
  {
   "cell_type": "code",
   "execution_count": null,
   "metadata": {},
   "outputs": [],
   "source": [
    "# %%\n",
    "print (\"Función min()\")\n",
    "lista = [1,2,3,4,5]\n",
    "print (lista)\n",
    "print (min(lista))\n",
    "lista = [\"a\",\"b\",\"c\",\"d\",\"e\"]\n",
    "print (lista)\n",
    "print (min(lista))"
   ]
  },
  {
   "cell_type": "code",
   "execution_count": null,
   "metadata": {},
   "outputs": [],
   "source": [
    "# %%\n",
    "print (\"Función sum()\")\n",
    "lista = [1,2,3,4,5]\n",
    "print (lista)\n",
    "print (sum(lista))"
   ]
  },
  {
   "cell_type": "code",
   "execution_count": null,
   "metadata": {},
   "outputs": [],
   "source": [
    "# %%\n",
    "print (\"Comparación de listas\")\n",
    "lista = [1,2,3,4,5]\n",
    "print (lista)\n",
    "print (3 in lista)\n",
    "print (6 in lista)\n",
    "print (3 not in lista)\n",
    "print (6 not in lista)\n",
    "print ([1,2,3] in lista)"
   ]
  },
  {
   "cell_type": "code",
   "execution_count": null,
   "metadata": {},
   "outputs": [],
   "source": [
    "# %%\n",
    "print (\"Comparación de listas\")\n",
    "lista1 = [1,2,3,4,5]\n",
    "lista2 = [1,2,3,4,5]\n",
    "lista3 = [1,2]\n",
    "print (lista1, lista2, lista3)\n",
    "print (lista1 is lista2)\n",
    "print (lista1 is not lista2)\n",
    "print (lista3 is lista1)"
   ]
  },
  {
   "cell_type": "code",
   "execution_count": null,
   "metadata": {},
   "outputs": [],
   "source": [
    "# %%\n",
    "print (\"Menor y Menor Igual que\")\n",
    "print ([1,2,3] <= [1,2,4])\n",
    "print ([1,2,3] <= [1,2,2,2])\n",
    "print ([1,2,3] <= [2])\n",
    "print ([1,2,3] < [1,2,3])\n",
    "print ([1,2,3] <= [1,2,3])"
   ]
  },
  {
   "cell_type": "code",
   "execution_count": null,
   "metadata": {},
   "outputs": [],
   "source": [
    "# %%\n",
    "print (\"Mayor y Mayor Igual que\")\n",
    "print ([1,2,3] >= [1,2,4])\n",
    "print ([1,2,3] >= [1,2,2,2])\n",
    "print ([1,2,3] >= [2])\n",
    "print ([1,2,3] > [1,2,3])\n",
    "print ([1,2,3] >= [1,2,3])"
   ]
  },
  {
   "cell_type": "code",
   "execution_count": null,
   "metadata": {},
   "outputs": [],
   "source": [
    "# %%\n",
    "print (\"Igual y Desigual que\")\n",
    "print ([1,2,3] == [1,2,3])\n",
    "print ([1,2,3] == [1,2,4])\n",
    "print ([1,2,3] != [1,2,3])\n",
    "print ([1,2,3] != [1,2,4])"
   ]
  },
  {
   "cell_type": "code",
   "execution_count": null,
   "metadata": {},
   "outputs": [],
   "source": [
    "# %%\n",
    "print (\"Listas anidadas\")\n",
    "lista = [1,2,3,[4,5,6]]\n",
    "print (lista)\n",
    "print (type(lista))\n",
    "valor_lista = lista[3]\n",
    "print (valor_lista)\n",
    "print (type(valor_lista))\n",
    "valor = valor_lista[1]\n",
    "print (valor)\n",
    "print (type(valor))"
   ]
  }
 ],
 "metadata": {
  "language_info": {
   "codemirror_mode": {
    "name": "ipython",
    "version": 3
   },
   "file_extension": ".py",
   "mimetype": "text/x-python",
   "name": "python",
   "nbconvert_exporter": "python",
   "pygments_lexer": "ipython3",
   "version": 3
  }
 },
 "nbformat": 4,
 "nbformat_minor": 2
}
